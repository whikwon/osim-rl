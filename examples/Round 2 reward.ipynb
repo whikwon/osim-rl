{
 "cells": [
  {
   "cell_type": "code",
   "execution_count": 99,
   "metadata": {},
   "outputs": [],
   "source": [
    "%matplotlib inline  \n",
    "import random\n",
    "import matplotlib.pyplot as plt\n",
    "import numpy as np\n",
    "import math"
   ]
  },
  {
   "cell_type": "code",
   "execution_count": 100,
   "metadata": {},
   "outputs": [],
   "source": [
    "nsteps = 1000\n",
    "rg = np.array(range(nsteps))\n",
    "velocity = np.zeros(nsteps)\n",
    "heading = np.zeros(nsteps)"
   ]
  },
  {
   "cell_type": "code",
   "execution_count": 123,
   "metadata": {},
   "outputs": [
    {
     "data": {
      "text/plain": [
       "[<matplotlib.lines.Line2D at 0x7f08374c60b8>]"
      ]
     },
     "execution_count": 123,
     "metadata": {},
     "output_type": "execute_result"
    },
    {
     "data": {
      "image/png": "[encoded data removed]",
      "text/plain": [
       "<Figure size 432x288 with 1 Axes>"
      ]
     },
     "metadata": {},
     "output_type": "display_data"
    }
   ],
   "source": [
    "velocity[0] = 1.25\n",
    "heading[0] = 0\n",
    "\n",
    "change = np.cumsum(np.random.poisson(200, 5))\n",
    "#change_head = \n",
    "\n",
    "for i in range(1,1000):\n",
    "    velocity[i] = velocity[i-1]\n",
    "    heading[i] = heading[i-1]\n",
    "\n",
    "    if i in change:\n",
    "        velocity[i] += random.choice([-1,1]) * random.uniform(-0.5,0.5)\n",
    "        heading[i] += random.choice([-1,1]) * random.uniform(-math.pi/8,math.pi/8)\n",
    "plt.plot(velocity)\n",
    "plt.plot(heading)"
   ]
  },
  {
   "cell_type": "code",
   "execution_count": 124,
   "metadata": {},
   "outputs": [
    {
     "data": {
      "text/plain": [
       "[<matplotlib.lines.Line2D at 0x7f0837419940>,\n",
       " <matplotlib.lines.Line2D at 0x7f0837419a90>]"
      ]
     },
     "execution_count": 124,
     "metadata": {},
     "output_type": "execute_result"
    },
    {
     "data": {
      "image/png": "[encoded data removed]",
      "text/plain": [
       "<Figure size 432x288 with 1 Axes>"
      ]
     },
     "metadata": {},
     "output_type": "display_data"
    }
   ],
   "source": [
    "def rect(row):\n",
    "    r = row[0]\n",
    "    theta = row[1]\n",
    "    x = r * math.cos(theta)\n",
    "    y = r * math.sin(theta)\n",
    "    return np.array([x,y])\n",
    "\n",
    "trajectory_polar = np.vstack((velocity,heading)).transpose()\n",
    "trajectory_cart = np.apply_along_axis(rect, 1, trajectory_polar)\n",
    "plt.plot(trajectory_cart)"
   ]
  }
 ],
 "metadata": {
  "kernelspec": {
   "display_name": "Python 3",
   "language": "python",
   "name": "python3"
  },
  "language_info": {
   "codemirror_mode": {
    "name": "ipython",
    "version": 3
   },
   "file_extension": ".py",
   "mimetype": "text/x-python",
   "name": "python",
   "nbconvert_exporter": "python",
   "pygments_lexer": "ipython3",
   "version": "3.6.1"
  }
 },
 "nbformat": 4,
 "nbformat_minor": 2
}
